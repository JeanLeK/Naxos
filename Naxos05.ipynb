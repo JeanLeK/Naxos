{
 "cells": [
  {
   "cell_type": "markdown",
   "metadata": {},
   "source": [
    "Naxos  Mai 2019\n"
   ]
  },
  {
   "cell_type": "code",
   "execution_count": 1,
   "metadata": {},
   "outputs": [
    {
     "name": "stderr",
     "output_type": "stream",
     "text": [
      "\n",
      "Attaching package: 'dplyr'\n",
      "\n",
      "The following object is masked from 'package:MASS':\n",
      "\n",
      "    select\n",
      "\n",
      "The following objects are masked from 'package:stats':\n",
      "\n",
      "    filter, lag\n",
      "\n",
      "The following objects are masked from 'package:base':\n",
      "\n",
      "    intersect, setdiff, setequal, union\n",
      "\n",
      "Loading required package: lattice\n",
      "Welcome! Related Books: `Practical Guide To Cluster Analysis in R` at https://goo.gl/13EFCZ\n",
      "randomForest 4.6-14\n",
      "Type rfNews() to see new features/changes/bug fixes.\n",
      "\n",
      "Attaching package: 'randomForest'\n",
      "\n",
      "The following object is masked from 'package:ggplot2':\n",
      "\n",
      "    margin\n",
      "\n",
      "The following object is masked from 'package:dplyr':\n",
      "\n",
      "    combine\n",
      "\n"
     ]
    }
   ],
   "source": [
    "# Bibkiothèques\n",
    "# Library\n",
    "library(MASS)\n",
    "library(dplyr)\n",
    "library(tidyr)\n",
    "library(ggplot2)\n",
    "library(caret)\n",
    "library(factoextra)\n",
    "library(FactoMineR)\n",
    "library(randomForest)"
   ]
  },
  {
   "cell_type": "markdown",
   "metadata": {},
   "source": [
    "Les bibliothèques et fonctions de visualisation"
   ]
  },
  {
   "cell_type": "code",
   "execution_count": null,
   "metadata": {},
   "outputs": [],
   "source": [
    "\n",
    "library(summarytools)\n",
    "# Options de summarytools\n",
    "st_options(plain.ascii = FALSE,          # This is a must in Rmd documents\n",
    "          style = \"rmarkdown\",          # idem\n",
    "          dfSummary.varnumbers = FALSE, # This keeps results narrow enough\n",
    "          dfSummary.valid.col = FALSE,\n",
    "          lang = \"fr\")\n",
    "\n",
    "WieW<-function(XG){\n",
    "view(dfSummary(XG, plain.ascii = FALSE, style = \"grid\", \n",
    "              graph.magnif = 0.5, valid.col = FALSE, tmp.img.dir = \"/tmp\"))\n",
    "}\n",
    "\n",
    "#pairs\n",
    "panel.cor <- function(x, y, digits = 2, prefix = \"\", cex.cor){\n",
    "    usr <- par(\"usr\"); on.exit(par(usr))\n",
    "    par(usr = c(0, 1, 0, 1))\n",
    "    r <- abs(cor(x, y))\n",
    "    txt <- format(c(r, 0.123456789), digits = digits)[1]\n",
    "    txt <- paste0(prefix, txt)\n",
    "    if(missing(cex.cor)) cex.cor <- 0.8/strwidth(txt)\n",
    "    text(0.5, 0.5, txt, cex = cex.cor * r)\n",
    "}    \n",
    "\n",
    "Graph_Prediction <-function (Gxy,Titre) {\n",
    "  Graph<-ggplot(data = Gxy, aes(x = Gxy[,1], y=Gxy[,2]))+\n",
    "    geom_point()+\n",
    "    geom_abline(slope = 1, intercept = 0)+\n",
    "    labs(title=Titre, x=\"Mesure\", y=\"Estimation\")\n",
    "  return(Graph)}\n",
    "\n",
    "Graph <-function (Xlab,Gx,Ylab,Gy,Titre) {\n",
    "  Graph<-ggplot(data = as.data.frame(cbind(Gx,Gy)), aes(x = Gx, y= Gy))+\n",
    "    geom_point()+\n",
    "    geom_abline(slope = 1, intercept = 0)+\n",
    "    geom_smooth(method=\"lm\",se=FALSE)+\n",
    "    labs(title=Titre, x=Xlab, y=Ylab)\n",
    "  return(Graph)}\n"
   ]
  },
  {
   "cell_type": "code",
   "execution_count": null,
   "metadata": {},
   "outputs": [],
   "source": [
    "# Importations des données\n",
    "\n",
    "library(openxlsx)\n",
    "#ExerM45 moyenne des exploitations de OTEX1501 présentes sur 4 ou 5 ans. \n",
    "# B fichier avec les bonus recodés\n",
    "ExerM45<- read.xlsx(\"NaxosB_jk_M45.xlsx\", sheet = 1, startRow = 1, colNames = TRUE,rowNames = FALSE, detectDates = TRUE, skipEmptyRows = TRUE,skipEmptyCols = TRUE, rows = NULL, cols = NULL, check.names = FALSE,namedRegion = NULL, na.strings = \"NA\", fillMergedCells = FALSE)"
   ]
  },
  {
   "cell_type": "code",
   "execution_count": null,
   "metadata": {},
   "outputs": [],
   "source": [
    "# Fonctions de retraitement\n",
    "# Fonctions de retraitement\n",
    "\n",
    "NoNA<-function(x,y) {\n",
    "  x[is.na(x)] <- 0\n",
    "  y[is.na(y)] <- 0\n",
    "  y <- y + x\n",
    "return(y)\n",
    "}\n",
    "# Tri_Var liste des varaiables à traiter. tx  taux d'élimination \n",
    "Out_quartil<-function(data,Tri_Var,tx){ data<- data %>% filter_at(vars(Tri_Var), all_vars(\n",
    "  ((quantile((.),probs=.75)-quantile((.),probs=.25))*tx>abs(median(.)-(.)))))\n",
    "return(data)\n",
    "}"
   ]
  },
  {
   "cell_type": "code",
   "execution_count": null,
   "metadata": {},
   "outputs": [],
   "source": []
  },
  {
   "cell_type": "code",
   "execution_count": null,
   "metadata": {},
   "outputs": [],
   "source": []
  }
 ],
 "metadata": {
  "kernelspec": {
   "display_name": "R",
   "language": "R",
   "name": "ir"
  },
  "language_info": {
   "codemirror_mode": "r",
   "file_extension": ".r",
   "mimetype": "text/x-r-source",
   "name": "R",
   "pygments_lexer": "r",
   "version": "3.5.3"
  }
 },
 "nbformat": 4,
 "nbformat_minor": 2
}
